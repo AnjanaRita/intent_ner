{
 "cells": [
  {
   "cell_type": "markdown",
   "metadata": {},
   "source": [
    "### Try it out the Classification model  \n",
    "    - ALL the models are save in model folder.\n",
    "    - Model is save as {modelname_featurename.sav}\n",
    "    - For example model name is decision_tree and feature is tf-idf, then save model name is \n",
    "      decision_tree_tfidf.save"
   ]
  },
  {
   "cell_type": "markdown",
   "metadata": {},
   "source": [
    "#### Available classification model\n",
    "    - svc_tfidf.sav\n",
    "    - svc_use.save\n",
    "    - knn_use.sav\n",
    "    - knn_tfidf.sav\n",
    "    - logistic_tfidf.sav\n",
    "    - logistic_use.sav\n",
    "    - random_forest_use.sav\n",
    "    - random_forest_tfidf.sav\n",
    "    - decision_tree_tfidf.sav\n",
    "    - decision_tree_use.sav"
   ]
  },
  {
   "cell_type": "code",
   "execution_count": 7,
   "metadata": {},
   "outputs": [],
   "source": [
    "import os\n",
    "from classification.train import load_model\n",
    "from utility.feature_utility import use_vectorizer\n",
    "from utility.feature_utility import tfidf_vectorizer"
   ]
  },
  {
   "cell_type": "code",
   "execution_count": 10,
   "metadata": {},
   "outputs": [],
   "source": [
    "def tf_idf_reader():\n",
    "    with open('model/tfidf.pkl','rb') as f:\n",
    "        tfidf = pickle.load(f)\n",
    "    return tfidf\n",
    "    \n",
    "def predict_sample(model_name, sample):\n",
    "    model = load_model(os.path.join('model/classification/',model_name))\n",
    "    if isinstance(sample,str):\n",
    "        sample = [sample]\n",
    "    if 'tfidf' in model_name:\n",
    "        tfidf = tf_idf_reader()\n",
    "        sample_vector = tfidf.transform(sample)\n",
    "    else:\n",
    "        sample_vector = use_vectorizer(sample)\n",
    "    return model.predict(sample_vector)"
   ]
  },
  {
   "cell_type": "code",
   "execution_count": 12,
   "metadata": {},
   "outputs": [
    {
     "name": "stderr",
     "output_type": "stream",
     "text": [
      "WARNING: Logging before flag parsing goes to stderr.\n",
      "W0830 11:16:38.641911 140542472750912 deprecation_wrapper.py:119] From /home/genesis/projects/misc/vp/verloop/notebook/utility/feature_utility.py:20: The name tf.Session is deprecated. Please use tf.compat.v1.Session instead.\n",
      "\n",
      "W0830 11:16:38.672582 140542472750912 deprecation_wrapper.py:119] From /home/genesis/projects/misc/vp/verloop/notebook/utility/feature_utility.py:21: The name tf.global_variables_initializer is deprecated. Please use tf.compat.v1.global_variables_initializer instead.\n",
      "\n",
      "W0830 11:16:38.676620 140542472750912 deprecation_wrapper.py:119] From /home/genesis/projects/misc/vp/verloop/notebook/utility/feature_utility.py:21: The name tf.tables_initializer is deprecated. Please use tf.compat.v1.tables_initializer instead.\n",
      "\n"
     ]
    },
    {
     "data": {
      "text/plain": [
       "array(['FindConnection'], dtype=object)"
      ]
     },
     "execution_count": 12,
     "metadata": {},
     "output_type": "execute_result"
    }
   ],
   "source": [
    "predict_sample('logistic_use.sav','i want to go to mumbai')"
   ]
  },
  {
   "cell_type": "markdown",
   "metadata": {},
   "source": [
    "### Try it out NER model\n",
    "    - Before trying out ner model please first go through the Notebook 5 and save the model"
   ]
  },
  {
   "cell_type": "code",
   "execution_count": 14,
   "metadata": {},
   "outputs": [],
   "source": [
    "import spacy"
   ]
  },
  {
   "cell_type": "code",
   "execution_count": 22,
   "metadata": {},
   "outputs": [],
   "source": [
    "ner_model = spacy.load('model/ner_model/small_ner/') # better result use large model"
   ]
  },
  {
   "cell_type": "code",
   "execution_count": 20,
   "metadata": {},
   "outputs": [],
   "source": [
    "def get_entities(text):\n",
    "    doc = ner_model(text)\n",
    "    entities = [(ent.text, ent.label_) for ent in doc.ents]\n",
    "    return entities"
   ]
  },
  {
   "cell_type": "code",
   "execution_count": 25,
   "metadata": {},
   "outputs": [
    {
     "data": {
      "text/plain": [
       "[('Annweiler', 'StationStart'), ('Trifels', 'StationStart')]"
      ]
     },
     "execution_count": 25,
     "metadata": {},
     "output_type": "execute_result"
    }
   ],
   "source": [
    "get_entities('how to go from Am Ettersberg to Annweiler am Trifels ')"
   ]
  },
  {
   "cell_type": "code",
   "execution_count": null,
   "metadata": {},
   "outputs": [],
   "source": []
  }
 ],
 "metadata": {
  "kernelspec": {
   "display_name": "Python 3",
   "language": "python",
   "name": "python3"
  },
  "language_info": {
   "codemirror_mode": {
    "name": "ipython",
    "version": 3
   },
   "file_extension": ".py",
   "mimetype": "text/x-python",
   "name": "python",
   "nbconvert_exporter": "python",
   "pygments_lexer": "ipython3",
   "version": "3.7.3"
  }
 },
 "nbformat": 4,
 "nbformat_minor": 2
}
