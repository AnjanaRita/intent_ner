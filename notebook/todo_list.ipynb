{
 "cells": [
  {
   "cell_type": "markdown",
   "metadata": {},
   "source": [
    "1. Explore the dataset\n",
    "    - Dataset exploration in terms of classification\n",
    "    - Dataset exploration in terms of ner\n",
    "    \n",
    "2. Classification Exploration\n",
    "    - Different feature like elmo embedding\n",
    "    - Using USE\n",
    "    - Stacking and ensemble model\n",
    "    \n",
    "3. Ner tagging\n",
    "    - rule based and using word similarity\n",
    "    - Spacy model\n",
    "    - data augmentation and spacy model  "
   ]
  },
  {
   "cell_type": "code",
   "execution_count": null,
   "metadata": {},
   "outputs": [],
   "source": []
  }
 ],
 "metadata": {
  "kernelspec": {
   "display_name": "Python 3",
   "language": "python",
   "name": "python3"
  },
  "language_info": {
   "codemirror_mode": {
    "name": "ipython",
    "version": 3
   },
   "file_extension": ".py",
   "mimetype": "text/x-python",
   "name": "python",
   "nbconvert_exporter": "python",
   "pygments_lexer": "ipython3",
   "version": "3.7.3"
  }
 },
 "nbformat": 4,
 "nbformat_minor": 2
}
