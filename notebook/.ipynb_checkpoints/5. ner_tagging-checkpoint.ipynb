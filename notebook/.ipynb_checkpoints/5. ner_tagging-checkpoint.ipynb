{
 "cells": [
  {
   "cell_type": "markdown",
   "metadata": {},
   "source": [
    "### NER experiment with spacy "
   ]
  },
  {
   "cell_type": "code",
   "execution_count": 1,
   "metadata": {},
   "outputs": [],
   "source": [
    "import spacy\n",
    "import random\n",
    "import pandas as pd\n",
    "from ner.train import custom_train\n",
    "from ner.eval import ner_model_evalution\n",
    "from utility.utils import json_2_dataframe\n",
    "from utility.utils import train_test_spliter\n",
    "from utility.utils import corpus_entity_info\n",
    "from spacy.util import minibatch, compounding\n",
    "from utility.utils import spacy_data_conversion"
   ]
  },
  {
   "cell_type": "code",
   "execution_count": 2,
   "metadata": {},
   "outputs": [],
   "source": [
    "data = json_2_dataframe('../data/ChatbotCorpus.json')\n",
    "splited_data = train_test_spliter(data)\n",
    "train_data, test_data = splited_data.train, splited_data.test"
   ]
  },
  {
   "cell_type": "code",
   "execution_count": 3,
   "metadata": {},
   "outputs": [
    {
     "data": {
      "text/html": [
       "<div>\n",
       "<style scoped>\n",
       "    .dataframe tbody tr th:only-of-type {\n",
       "        vertical-align: middle;\n",
       "    }\n",
       "\n",
       "    .dataframe tbody tr th {\n",
       "        vertical-align: top;\n",
       "    }\n",
       "\n",
       "    .dataframe thead th {\n",
       "        text-align: right;\n",
       "    }\n",
       "</style>\n",
       "<table border=\"1\" class=\"dataframe\">\n",
       "  <thead>\n",
       "    <tr style=\"text-align: right;\">\n",
       "      <th></th>\n",
       "      <th>entity</th>\n",
       "      <th>train</th>\n",
       "      <th>test</th>\n",
       "    </tr>\n",
       "  </thead>\n",
       "  <tbody>\n",
       "    <tr>\n",
       "      <th>0</th>\n",
       "      <td>Criterion</td>\n",
       "      <td>50</td>\n",
       "      <td>34</td>\n",
       "    </tr>\n",
       "    <tr>\n",
       "      <th>1</th>\n",
       "      <td>Line</td>\n",
       "      <td>2</td>\n",
       "      <td>1</td>\n",
       "    </tr>\n",
       "    <tr>\n",
       "      <th>2</th>\n",
       "      <td>StationDest</td>\n",
       "      <td>57</td>\n",
       "      <td>71</td>\n",
       "    </tr>\n",
       "    <tr>\n",
       "      <th>3</th>\n",
       "      <td>StationStart</td>\n",
       "      <td>91</td>\n",
       "      <td>102</td>\n",
       "    </tr>\n",
       "    <tr>\n",
       "      <th>4</th>\n",
       "      <td>TimeEndTime</td>\n",
       "      <td>2</td>\n",
       "      <td>0</td>\n",
       "    </tr>\n",
       "    <tr>\n",
       "      <th>5</th>\n",
       "      <td>TimeStartTime</td>\n",
       "      <td>5</td>\n",
       "      <td>0</td>\n",
       "    </tr>\n",
       "    <tr>\n",
       "      <th>6</th>\n",
       "      <td>Vehicle</td>\n",
       "      <td>50</td>\n",
       "      <td>35</td>\n",
       "    </tr>\n",
       "  </tbody>\n",
       "</table>\n",
       "</div>"
      ],
      "text/plain": [
       "          entity  train  test\n",
       "0      Criterion     50    34\n",
       "1           Line      2     1\n",
       "2    StationDest     57    71\n",
       "3   StationStart     91   102\n",
       "4    TimeEndTime      2     0\n",
       "5  TimeStartTime      5     0\n",
       "6        Vehicle     50    35"
      ]
     },
     "execution_count": 3,
     "metadata": {},
     "output_type": "execute_result"
    }
   ],
   "source": [
    "train_ner = pd.concat([pd.DataFrame(ent) for ent in train_data.entities.values])\n",
    "test_ner = pd.concat([pd.DataFrame(ent) for ent in test_data.entities.values])\n",
    "corpus_entity_info(train_ner, test_ner).reset_index()"
   ]
  },
  {
   "cell_type": "code",
   "execution_count": 4,
   "metadata": {},
   "outputs": [],
   "source": [
    "train_ner = pd.concat([pd.DataFrame(ent) for ent in train_data.entities.values])\n",
    "labels = train_ner.entity.unique()"
   ]
  },
  {
   "cell_type": "code",
   "execution_count": 5,
   "metadata": {},
   "outputs": [],
   "source": [
    "formated_training_data = spacy_data_conversion(train_data,mode='train')"
   ]
  },
  {
   "cell_type": "markdown",
   "metadata": {},
   "source": [
    "#### Transfer learning using spacy small ner model"
   ]
  },
  {
   "cell_type": "code",
   "execution_count": 6,
   "metadata": {},
   "outputs": [
    {
     "name": "stdout",
     "output_type": "stream",
     "text": [
      "Loaded model 'en'\n",
      "model is trained\n",
      "model is saved to model/ner_model/small_ner\n"
     ]
    }
   ],
   "source": [
    "small_ner = custom_train(formated_training_data, labels, output_dir='model/ner_model/small_ner',n_iter=20,verbose=False)"
   ]
  },
  {
   "cell_type": "markdown",
   "metadata": {},
   "source": [
    "\n",
    "#### Small ner model evalution"
   ]
  },
  {
   "cell_type": "code",
   "execution_count": 7,
   "metadata": {},
   "outputs": [],
   "source": [
    "train_data_scorecard = ner_model_evalution(small_ner, spacy_data_conversion(train_data, mode='evalution'))\n",
    "test_data_scorecard = ner_model_evalution(small_ner, spacy_data_conversion(test_data, mode='evalution'))"
   ]
  },
  {
   "cell_type": "markdown",
   "metadata": {},
   "source": [
    "### NER score for the training dataset"
   ]
  },
  {
   "cell_type": "code",
   "execution_count": 8,
   "metadata": {},
   "outputs": [
    {
     "data": {
      "text/html": [
       "<div>\n",
       "<style scoped>\n",
       "    .dataframe tbody tr th:only-of-type {\n",
       "        vertical-align: middle;\n",
       "    }\n",
       "\n",
       "    .dataframe tbody tr th {\n",
       "        vertical-align: top;\n",
       "    }\n",
       "\n",
       "    .dataframe thead th {\n",
       "        text-align: right;\n",
       "    }\n",
       "</style>\n",
       "<table border=\"1\" class=\"dataframe\">\n",
       "  <thead>\n",
       "    <tr style=\"text-align: right;\">\n",
       "      <th>index</th>\n",
       "      <th>f1_score</th>\n",
       "      <th>precision_score</th>\n",
       "      <th>recall_score</th>\n",
       "    </tr>\n",
       "  </thead>\n",
       "  <tbody>\n",
       "    <tr>\n",
       "      <th>overall</th>\n",
       "      <td>77.155172</td>\n",
       "      <td>85.645933</td>\n",
       "      <td>70.196078</td>\n",
       "    </tr>\n",
       "    <tr>\n",
       "      <th>StationDest</th>\n",
       "      <td>75.247525</td>\n",
       "      <td>84.444444</td>\n",
       "      <td>67.857143</td>\n",
       "    </tr>\n",
       "    <tr>\n",
       "      <th>StationStart</th>\n",
       "      <td>70.731707</td>\n",
       "      <td>78.378378</td>\n",
       "      <td>64.444444</td>\n",
       "    </tr>\n",
       "    <tr>\n",
       "      <th>Criterion</th>\n",
       "      <td>89.361702</td>\n",
       "      <td>95.454545</td>\n",
       "      <td>84.000000</td>\n",
       "    </tr>\n",
       "    <tr>\n",
       "      <th>Vehicle</th>\n",
       "      <td>81.720430</td>\n",
       "      <td>88.372093</td>\n",
       "      <td>76.000000</td>\n",
       "    </tr>\n",
       "    <tr>\n",
       "      <th>TimeEndTime</th>\n",
       "      <td>66.666667</td>\n",
       "      <td>100.000000</td>\n",
       "      <td>50.000000</td>\n",
       "    </tr>\n",
       "    <tr>\n",
       "      <th>TimeStartTime</th>\n",
       "      <td>57.142857</td>\n",
       "      <td>100.000000</td>\n",
       "      <td>40.000000</td>\n",
       "    </tr>\n",
       "    <tr>\n",
       "      <th>Line</th>\n",
       "      <td>0.000000</td>\n",
       "      <td>0.000000</td>\n",
       "      <td>0.000000</td>\n",
       "    </tr>\n",
       "  </tbody>\n",
       "</table>\n",
       "</div>"
      ],
      "text/plain": [
       "index           f1_score  precision_score  recall_score\n",
       "overall        77.155172        85.645933     70.196078\n",
       "StationDest    75.247525        84.444444     67.857143\n",
       "StationStart   70.731707        78.378378     64.444444\n",
       "Criterion      89.361702        95.454545     84.000000\n",
       "Vehicle        81.720430        88.372093     76.000000\n",
       "TimeEndTime    66.666667       100.000000     50.000000\n",
       "TimeStartTime  57.142857       100.000000     40.000000\n",
       "Line            0.000000         0.000000      0.000000"
      ]
     },
     "execution_count": 8,
     "metadata": {},
     "output_type": "execute_result"
    }
   ],
   "source": [
    "train_data_scorecard"
   ]
  },
  {
   "cell_type": "markdown",
   "metadata": {},
   "source": [
    "### NER score for test dataset"
   ]
  },
  {
   "cell_type": "code",
   "execution_count": 9,
   "metadata": {},
   "outputs": [
    {
     "data": {
      "text/html": [
       "<div>\n",
       "<style scoped>\n",
       "    .dataframe tbody tr th:only-of-type {\n",
       "        vertical-align: middle;\n",
       "    }\n",
       "\n",
       "    .dataframe tbody tr th {\n",
       "        vertical-align: top;\n",
       "    }\n",
       "\n",
       "    .dataframe thead th {\n",
       "        text-align: right;\n",
       "    }\n",
       "</style>\n",
       "<table border=\"1\" class=\"dataframe\">\n",
       "  <thead>\n",
       "    <tr style=\"text-align: right;\">\n",
       "      <th>index</th>\n",
       "      <th>f1_score</th>\n",
       "      <th>precision_score</th>\n",
       "      <th>recall_score</th>\n",
       "    </tr>\n",
       "  </thead>\n",
       "  <tbody>\n",
       "    <tr>\n",
       "      <th>overall</th>\n",
       "      <td>74.004684</td>\n",
       "      <td>85.869565</td>\n",
       "      <td>65.020576</td>\n",
       "    </tr>\n",
       "    <tr>\n",
       "      <th>StationDest</th>\n",
       "      <td>86.153846</td>\n",
       "      <td>94.915254</td>\n",
       "      <td>78.873239</td>\n",
       "    </tr>\n",
       "    <tr>\n",
       "      <th>StationStart</th>\n",
       "      <td>59.171598</td>\n",
       "      <td>74.626866</td>\n",
       "      <td>49.019608</td>\n",
       "    </tr>\n",
       "    <tr>\n",
       "      <th>Criterion</th>\n",
       "      <td>86.666667</td>\n",
       "      <td>100.000000</td>\n",
       "      <td>76.470588</td>\n",
       "    </tr>\n",
       "    <tr>\n",
       "      <th>Vehicle</th>\n",
       "      <td>77.611940</td>\n",
       "      <td>81.250000</td>\n",
       "      <td>74.285714</td>\n",
       "    </tr>\n",
       "    <tr>\n",
       "      <th>Line</th>\n",
       "      <td>0.000000</td>\n",
       "      <td>0.000000</td>\n",
       "      <td>0.000000</td>\n",
       "    </tr>\n",
       "  </tbody>\n",
       "</table>\n",
       "</div>"
      ],
      "text/plain": [
       "index          f1_score  precision_score  recall_score\n",
       "overall       74.004684        85.869565     65.020576\n",
       "StationDest   86.153846        94.915254     78.873239\n",
       "StationStart  59.171598        74.626866     49.019608\n",
       "Criterion     86.666667       100.000000     76.470588\n",
       "Vehicle       77.611940        81.250000     74.285714\n",
       "Line           0.000000         0.000000      0.000000"
      ]
     },
     "execution_count": 9,
     "metadata": {},
     "output_type": "execute_result"
    }
   ],
   "source": [
    "test_data_scorecard"
   ]
  },
  {
   "cell_type": "markdown",
   "metadata": {},
   "source": [
    "#### Obeservation\n",
    "    - Small ner model is train on spacy small ner model.\n",
    "    - As we can see the, Model is not properly generalized. We have good amount of the data for StationStart and StationDest but testset's\n",
    "      overall score is not good."
   ]
  },
  {
   "cell_type": "markdown",
   "metadata": {},
   "source": [
    "### Transfer learning using spacy large model"
   ]
  },
  {
   "cell_type": "code",
   "execution_count": 10,
   "metadata": {},
   "outputs": [
    {
     "name": "stdout",
     "output_type": "stream",
     "text": [
      "Loaded model 'en_core_web_lg'\n",
      "model is trained\n",
      "model is saved to model/ner_model/large_ner\n"
     ]
    }
   ],
   "source": [
    "large_ner = custom_train(formated_training_data, labels,model=\"en_core_web_lg\" ,output_dir='model/ner_model/large_ner',n_iter=20,verbose=False)"
   ]
  },
  {
   "cell_type": "code",
   "execution_count": 11,
   "metadata": {},
   "outputs": [],
   "source": [
    "train_data_scorecard = ner_model_evalution(large_ner, spacy_data_conversion(train_data, mode='evalution'))\n",
    "test_data_scorecard = ner_model_evalution(large_ner, spacy_data_conversion(test_data, mode='evalution'))"
   ]
  },
  {
   "cell_type": "markdown",
   "metadata": {},
   "source": [
    "### NER score for train dataset"
   ]
  },
  {
   "cell_type": "code",
   "execution_count": 12,
   "metadata": {},
   "outputs": [
    {
     "data": {
      "text/html": [
       "<div>\n",
       "<style scoped>\n",
       "    .dataframe tbody tr th:only-of-type {\n",
       "        vertical-align: middle;\n",
       "    }\n",
       "\n",
       "    .dataframe tbody tr th {\n",
       "        vertical-align: top;\n",
       "    }\n",
       "\n",
       "    .dataframe thead th {\n",
       "        text-align: right;\n",
       "    }\n",
       "</style>\n",
       "<table border=\"1\" class=\"dataframe\">\n",
       "  <thead>\n",
       "    <tr style=\"text-align: right;\">\n",
       "      <th>index</th>\n",
       "      <th>f1_score</th>\n",
       "      <th>precision_score</th>\n",
       "      <th>recall_score</th>\n",
       "    </tr>\n",
       "  </thead>\n",
       "  <tbody>\n",
       "    <tr>\n",
       "      <th>overall</th>\n",
       "      <td>93.957115</td>\n",
       "      <td>93.410853</td>\n",
       "      <td>94.509804</td>\n",
       "    </tr>\n",
       "    <tr>\n",
       "      <th>StationDest</th>\n",
       "      <td>92.592593</td>\n",
       "      <td>96.153846</td>\n",
       "      <td>89.285714</td>\n",
       "    </tr>\n",
       "    <tr>\n",
       "      <th>StationStart</th>\n",
       "      <td>93.478261</td>\n",
       "      <td>91.489362</td>\n",
       "      <td>95.555556</td>\n",
       "    </tr>\n",
       "    <tr>\n",
       "      <th>Criterion</th>\n",
       "      <td>98.039216</td>\n",
       "      <td>96.153846</td>\n",
       "      <td>100.000000</td>\n",
       "    </tr>\n",
       "    <tr>\n",
       "      <th>Vehicle</th>\n",
       "      <td>94.117647</td>\n",
       "      <td>92.307692</td>\n",
       "      <td>96.000000</td>\n",
       "    </tr>\n",
       "    <tr>\n",
       "      <th>TimeStartTime</th>\n",
       "      <td>90.909091</td>\n",
       "      <td>83.333333</td>\n",
       "      <td>100.000000</td>\n",
       "    </tr>\n",
       "    <tr>\n",
       "      <th>TimeEndTime</th>\n",
       "      <td>66.666667</td>\n",
       "      <td>100.000000</td>\n",
       "      <td>50.000000</td>\n",
       "    </tr>\n",
       "    <tr>\n",
       "      <th>Line</th>\n",
       "      <td>66.666667</td>\n",
       "      <td>100.000000</td>\n",
       "      <td>50.000000</td>\n",
       "    </tr>\n",
       "  </tbody>\n",
       "</table>\n",
       "</div>"
      ],
      "text/plain": [
       "index           f1_score  precision_score  recall_score\n",
       "overall        93.957115        93.410853     94.509804\n",
       "StationDest    92.592593        96.153846     89.285714\n",
       "StationStart   93.478261        91.489362     95.555556\n",
       "Criterion      98.039216        96.153846    100.000000\n",
       "Vehicle        94.117647        92.307692     96.000000\n",
       "TimeStartTime  90.909091        83.333333    100.000000\n",
       "TimeEndTime    66.666667       100.000000     50.000000\n",
       "Line           66.666667       100.000000     50.000000"
      ]
     },
     "execution_count": 12,
     "metadata": {},
     "output_type": "execute_result"
    }
   ],
   "source": [
    "train_data_scorecard"
   ]
  },
  {
   "cell_type": "markdown",
   "metadata": {},
   "source": [
    "### NER score for test dataset"
   ]
  },
  {
   "cell_type": "code",
   "execution_count": 13,
   "metadata": {},
   "outputs": [
    {
     "data": {
      "text/html": [
       "<div>\n",
       "<style scoped>\n",
       "    .dataframe tbody tr th:only-of-type {\n",
       "        vertical-align: middle;\n",
       "    }\n",
       "\n",
       "    .dataframe tbody tr th {\n",
       "        vertical-align: top;\n",
       "    }\n",
       "\n",
       "    .dataframe thead th {\n",
       "        text-align: right;\n",
       "    }\n",
       "</style>\n",
       "<table border=\"1\" class=\"dataframe\">\n",
       "  <thead>\n",
       "    <tr style=\"text-align: right;\">\n",
       "      <th>index</th>\n",
       "      <th>f1_score</th>\n",
       "      <th>precision_score</th>\n",
       "      <th>recall_score</th>\n",
       "    </tr>\n",
       "  </thead>\n",
       "  <tbody>\n",
       "    <tr>\n",
       "      <th>overall</th>\n",
       "      <td>91.139241</td>\n",
       "      <td>93.506494</td>\n",
       "      <td>88.888889</td>\n",
       "    </tr>\n",
       "    <tr>\n",
       "      <th>StationDest</th>\n",
       "      <td>91.044776</td>\n",
       "      <td>96.825397</td>\n",
       "      <td>85.915493</td>\n",
       "    </tr>\n",
       "    <tr>\n",
       "      <th>StationStart</th>\n",
       "      <td>91.919192</td>\n",
       "      <td>94.791667</td>\n",
       "      <td>89.215686</td>\n",
       "    </tr>\n",
       "    <tr>\n",
       "      <th>Criterion</th>\n",
       "      <td>100.000000</td>\n",
       "      <td>100.000000</td>\n",
       "      <td>100.000000</td>\n",
       "    </tr>\n",
       "    <tr>\n",
       "      <th>Vehicle</th>\n",
       "      <td>82.191781</td>\n",
       "      <td>78.947368</td>\n",
       "      <td>85.714286</td>\n",
       "    </tr>\n",
       "    <tr>\n",
       "      <th>Line</th>\n",
       "      <td>0.000000</td>\n",
       "      <td>0.000000</td>\n",
       "      <td>0.000000</td>\n",
       "    </tr>\n",
       "  </tbody>\n",
       "</table>\n",
       "</div>"
      ],
      "text/plain": [
       "index           f1_score  precision_score  recall_score\n",
       "overall        91.139241        93.506494     88.888889\n",
       "StationDest    91.044776        96.825397     85.915493\n",
       "StationStart   91.919192        94.791667     89.215686\n",
       "Criterion     100.000000       100.000000    100.000000\n",
       "Vehicle        82.191781        78.947368     85.714286\n",
       "Line            0.000000         0.000000      0.000000"
      ]
     },
     "execution_count": 13,
     "metadata": {},
     "output_type": "execute_result"
    }
   ],
   "source": [
    "test_data_scorecard"
   ]
  },
  {
   "cell_type": "markdown",
   "metadata": {},
   "source": [
    "### Obeservation\n",
    "    - You can notice that all the scores for the train set and test set is not differ much.\n",
    "    - Model is actully not overfitted. But in corrent dataset, train and test are pretty similar.\n",
    "    - So if we get samples with more variance for test, better way to evaluete the model"
   ]
  },
  {
   "cell_type": "code",
   "execution_count": null,
   "metadata": {},
   "outputs": [],
   "source": []
  }
 ],
 "metadata": {
  "kernelspec": {
   "display_name": "Python 3",
   "language": "python",
   "name": "python3"
  },
  "language_info": {
   "codemirror_mode": {
    "name": "ipython",
    "version": 3
   },
   "file_extension": ".py",
   "mimetype": "text/x-python",
   "name": "python",
   "nbconvert_exporter": "python",
   "pygments_lexer": "ipython3",
   "version": "3.7.1"
  }
 },
 "nbformat": 4,
 "nbformat_minor": 2
}
