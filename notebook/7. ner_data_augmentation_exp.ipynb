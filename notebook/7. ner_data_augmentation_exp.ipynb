{
 "cells": [
  {
   "cell_type": "code",
   "execution_count": 1,
   "metadata": {},
   "outputs": [],
   "source": [
    "import os\n",
    "import pickle\n",
    "from sklearn.svm import SVC\n",
    "from sklearn.metrics import *\n",
    "from ner.train import custom_train\n",
    "from ner.eval import ner_model_evalution\n",
    "from sklearn.metrics import accuracy_score\n",
    "from utility.utils import json_2_dataframe\n",
    "from utility.utils import train_test_spliter\n",
    "from utility.utils import spacy_data_conversion\n",
    "from utility.feature_utility import featurized_data\n",
    "from utility.data_augmentation_utility import fake_data_generation"
   ]
  },
  {
   "cell_type": "code",
   "execution_count": 2,
   "metadata": {},
   "outputs": [],
   "source": [
    "data = json_2_dataframe('../data/ChatbotCorpus.json')\n",
    "splited_data = train_test_spliter(data)\n",
    "train_data, test_data = splited_data.train, splited_data.test"
   ]
  },
  {
   "cell_type": "code",
   "execution_count": 3,
   "metadata": {},
   "outputs": [],
   "source": [
    "import pandas as pd\n",
    "from sklearn.utils import shuffle"
   ]
  },
  {
   "cell_type": "markdown",
   "metadata": {},
   "source": [
    "### Generating the fake data"
   ]
  },
  {
   "cell_type": "code",
   "execution_count": 5,
   "metadata": {},
   "outputs": [],
   "source": [
    "train_fake_data = fake_data_generation(train_data, training=True)\n",
    "test_fake_data = fake_data_generation(test_data,training=False)\n",
    "actual_train_ner = pd.concat([pd.DataFrame(ent) for ent in train_data.entities.values])\n",
    "fake_train_ner = pd.concat([pd.DataFrame(ent) for ent in train_fake_data.entities.values])"
   ]
  },
  {
   "cell_type": "markdown",
   "metadata": {},
   "source": [
    "### Stats between actual data and fake data samples"
   ]
  },
  {
   "cell_type": "code",
   "execution_count": 6,
   "metadata": {},
   "outputs": [
    {
     "data": {
      "text/html": [
       "<div>\n",
       "<style scoped>\n",
       "    .dataframe tbody tr th:only-of-type {\n",
       "        vertical-align: middle;\n",
       "    }\n",
       "\n",
       "    .dataframe tbody tr th {\n",
       "        vertical-align: top;\n",
       "    }\n",
       "\n",
       "    .dataframe thead th {\n",
       "        text-align: right;\n",
       "    }\n",
       "</style>\n",
       "<table border=\"1\" class=\"dataframe\">\n",
       "  <thead>\n",
       "    <tr style=\"text-align: right;\">\n",
       "      <th></th>\n",
       "      <th>actual data</th>\n",
       "      <th>augmented data</th>\n",
       "    </tr>\n",
       "    <tr>\n",
       "      <th>entity</th>\n",
       "      <th></th>\n",
       "      <th></th>\n",
       "    </tr>\n",
       "  </thead>\n",
       "  <tbody>\n",
       "    <tr>\n",
       "      <th>Criterion</th>\n",
       "      <td>50</td>\n",
       "      <td>309</td>\n",
       "    </tr>\n",
       "    <tr>\n",
       "      <th>Line</th>\n",
       "      <td>2</td>\n",
       "      <td>11</td>\n",
       "    </tr>\n",
       "    <tr>\n",
       "      <th>StationDest</th>\n",
       "      <td>57</td>\n",
       "      <td>331</td>\n",
       "    </tr>\n",
       "    <tr>\n",
       "      <th>StationStart</th>\n",
       "      <td>91</td>\n",
       "      <td>547</td>\n",
       "    </tr>\n",
       "    <tr>\n",
       "      <th>TimeEndTime</th>\n",
       "      <td>2</td>\n",
       "      <td>8</td>\n",
       "    </tr>\n",
       "    <tr>\n",
       "      <th>TimeStartTime</th>\n",
       "      <td>5</td>\n",
       "      <td>24</td>\n",
       "    </tr>\n",
       "    <tr>\n",
       "      <th>Vehicle</th>\n",
       "      <td>50</td>\n",
       "      <td>303</td>\n",
       "    </tr>\n",
       "  </tbody>\n",
       "</table>\n",
       "</div>"
      ],
      "text/plain": [
       "               actual data  augmented data\n",
       "entity                                    \n",
       "Criterion               50             309\n",
       "Line                     2              11\n",
       "StationDest             57             331\n",
       "StationStart            91             547\n",
       "TimeEndTime              2               8\n",
       "TimeStartTime            5              24\n",
       "Vehicle                 50             303"
      ]
     },
     "execution_count": 6,
     "metadata": {},
     "output_type": "execute_result"
    }
   ],
   "source": [
    "from utility.utils import corpus_entity_info\n",
    "ent_infos = corpus_entity_info(actual_train_ner, fake_train_ner,col1=\"actual data\",col2=\"augmented data\")\n",
    "ent_infos"
   ]
  },
  {
   "cell_type": "markdown",
   "metadata": {},
   "source": [
    "### Merge fake data with  actual data"
   ]
  },
  {
   "cell_type": "code",
   "execution_count": 7,
   "metadata": {},
   "outputs": [],
   "source": [
    "trainging_merge_data = pd.concat([train_data,train_fake_data])\n",
    "trainging_merge_data = shuffle(trainging_merge_data)\n",
    "formated_training_data = spacy_data_conversion(trainging_merge_data,mode='train')"
   ]
  },
  {
   "cell_type": "code",
   "execution_count": 8,
   "metadata": {},
   "outputs": [],
   "source": [
    "train_ner = pd.concat([pd.DataFrame(ent) for ent in trainging_merge_data.entities.values])\n",
    "labels = train_ner.entity.unique()"
   ]
  },
  {
   "cell_type": "markdown",
   "metadata": {},
   "source": [
    "### Training spacy small ner model with data augmentation"
   ]
  },
  {
   "cell_type": "code",
   "execution_count": 9,
   "metadata": {},
   "outputs": [
    {
     "name": "stdout",
     "output_type": "stream",
     "text": [
      "Loaded model 'en_core_web_sm'\n",
      "model is trained\n"
     ]
    }
   ],
   "source": [
    "small_ner = custom_train(formated_training_data,labels, model = 'en_core_web_sm' ,output_dir='model/ner_model/small_augment_ner',n_iter=20,verbose=False)"
   ]
  },
  {
   "cell_type": "code",
   "execution_count": 10,
   "metadata": {},
   "outputs": [],
   "source": [
    "train_data_scorecard = ner_model_evalution(small_ner, spacy_data_conversion(trainging_merge_data, mode='evalution'))\n",
    "test_data_scorecard = ner_model_evalution(small_ner, spacy_data_conversion(test_data, mode='evalution'))"
   ]
  },
  {
   "cell_type": "markdown",
   "metadata": {},
   "source": [
    "### Small ner model evalution"
   ]
  },
  {
   "cell_type": "code",
   "execution_count": 11,
   "metadata": {},
   "outputs": [
    {
     "data": {
      "text/html": [
       "<div>\n",
       "<style scoped>\n",
       "    .dataframe tbody tr th:only-of-type {\n",
       "        vertical-align: middle;\n",
       "    }\n",
       "\n",
       "    .dataframe tbody tr th {\n",
       "        vertical-align: top;\n",
       "    }\n",
       "\n",
       "    .dataframe thead th {\n",
       "        text-align: right;\n",
       "    }\n",
       "</style>\n",
       "<table border=\"1\" class=\"dataframe\">\n",
       "  <thead>\n",
       "    <tr style=\"text-align: right;\">\n",
       "      <th>index</th>\n",
       "      <th>f1_score</th>\n",
       "      <th>precision_score</th>\n",
       "      <th>recall_score</th>\n",
       "    </tr>\n",
       "  </thead>\n",
       "  <tbody>\n",
       "    <tr>\n",
       "      <th>overall</th>\n",
       "      <td>94.692264</td>\n",
       "      <td>94.852941</td>\n",
       "      <td>94.532131</td>\n",
       "    </tr>\n",
       "    <tr>\n",
       "      <th>Criterion</th>\n",
       "      <td>98.351648</td>\n",
       "      <td>97.018970</td>\n",
       "      <td>99.721448</td>\n",
       "    </tr>\n",
       "    <tr>\n",
       "      <th>StationStart</th>\n",
       "      <td>94.611727</td>\n",
       "      <td>94.462025</td>\n",
       "      <td>94.761905</td>\n",
       "    </tr>\n",
       "    <tr>\n",
       "      <th>Vehicle</th>\n",
       "      <td>92.090395</td>\n",
       "      <td>91.830986</td>\n",
       "      <td>92.351275</td>\n",
       "    </tr>\n",
       "    <tr>\n",
       "      <th>StationDest</th>\n",
       "      <td>93.691275</td>\n",
       "      <td>95.616438</td>\n",
       "      <td>91.842105</td>\n",
       "    </tr>\n",
       "    <tr>\n",
       "      <th>TimeStartTime</th>\n",
       "      <td>100.000000</td>\n",
       "      <td>100.000000</td>\n",
       "      <td>100.000000</td>\n",
       "    </tr>\n",
       "    <tr>\n",
       "      <th>TimeEndTime</th>\n",
       "      <td>100.000000</td>\n",
       "      <td>100.000000</td>\n",
       "      <td>100.000000</td>\n",
       "    </tr>\n",
       "    <tr>\n",
       "      <th>Line</th>\n",
       "      <td>76.190476</td>\n",
       "      <td>100.000000</td>\n",
       "      <td>61.538462</td>\n",
       "    </tr>\n",
       "  </tbody>\n",
       "</table>\n",
       "</div>"
      ],
      "text/plain": [
       "index            f1_score  precision_score  recall_score\n",
       "overall         94.692264        94.852941     94.532131\n",
       "Criterion       98.351648        97.018970     99.721448\n",
       "StationStart    94.611727        94.462025     94.761905\n",
       "Vehicle         92.090395        91.830986     92.351275\n",
       "StationDest     93.691275        95.616438     91.842105\n",
       "TimeStartTime  100.000000       100.000000    100.000000\n",
       "TimeEndTime    100.000000       100.000000    100.000000\n",
       "Line            76.190476       100.000000     61.538462"
      ]
     },
     "execution_count": 11,
     "metadata": {},
     "output_type": "execute_result"
    }
   ],
   "source": [
    "train_data_scorecard"
   ]
  },
  {
   "cell_type": "code",
   "execution_count": 12,
   "metadata": {},
   "outputs": [
    {
     "data": {
      "text/html": [
       "<div>\n",
       "<style scoped>\n",
       "    .dataframe tbody tr th:only-of-type {\n",
       "        vertical-align: middle;\n",
       "    }\n",
       "\n",
       "    .dataframe tbody tr th {\n",
       "        vertical-align: top;\n",
       "    }\n",
       "\n",
       "    .dataframe thead th {\n",
       "        text-align: right;\n",
       "    }\n",
       "</style>\n",
       "<table border=\"1\" class=\"dataframe\">\n",
       "  <thead>\n",
       "    <tr style=\"text-align: right;\">\n",
       "      <th>index</th>\n",
       "      <th>f1_score</th>\n",
       "      <th>precision_score</th>\n",
       "      <th>recall_score</th>\n",
       "    </tr>\n",
       "  </thead>\n",
       "  <tbody>\n",
       "    <tr>\n",
       "      <th>overall</th>\n",
       "      <td>93.991416</td>\n",
       "      <td>98.206278</td>\n",
       "      <td>90.123457</td>\n",
       "    </tr>\n",
       "    <tr>\n",
       "      <th>StationStart</th>\n",
       "      <td>92.307692</td>\n",
       "      <td>96.774194</td>\n",
       "      <td>88.235294</td>\n",
       "    </tr>\n",
       "    <tr>\n",
       "      <th>StationDest</th>\n",
       "      <td>94.814815</td>\n",
       "      <td>100.000000</td>\n",
       "      <td>90.140845</td>\n",
       "    </tr>\n",
       "    <tr>\n",
       "      <th>Criterion</th>\n",
       "      <td>96.969697</td>\n",
       "      <td>100.000000</td>\n",
       "      <td>94.117647</td>\n",
       "    </tr>\n",
       "    <tr>\n",
       "      <th>Vehicle</th>\n",
       "      <td>95.652174</td>\n",
       "      <td>97.058824</td>\n",
       "      <td>94.285714</td>\n",
       "    </tr>\n",
       "    <tr>\n",
       "      <th>Line</th>\n",
       "      <td>0.000000</td>\n",
       "      <td>0.000000</td>\n",
       "      <td>0.000000</td>\n",
       "    </tr>\n",
       "  </tbody>\n",
       "</table>\n",
       "</div>"
      ],
      "text/plain": [
       "index          f1_score  precision_score  recall_score\n",
       "overall       93.991416        98.206278     90.123457\n",
       "StationStart  92.307692        96.774194     88.235294\n",
       "StationDest   94.814815       100.000000     90.140845\n",
       "Criterion     96.969697       100.000000     94.117647\n",
       "Vehicle       95.652174        97.058824     94.285714\n",
       "Line           0.000000         0.000000      0.000000"
      ]
     },
     "execution_count": 12,
     "metadata": {},
     "output_type": "execute_result"
    }
   ],
   "source": [
    "test_data_scorecard"
   ]
  },
  {
   "cell_type": "code",
   "execution_count": null,
   "metadata": {},
   "outputs": [],
   "source": []
  }
 ],
 "metadata": {
  "kernelspec": {
   "display_name": "Python 3",
   "language": "python",
   "name": "python3"
  },
  "language_info": {
   "codemirror_mode": {
    "name": "ipython",
    "version": 3
   },
   "file_extension": ".py",
   "mimetype": "text/x-python",
   "name": "python",
   "nbconvert_exporter": "python",
   "pygments_lexer": "ipython3",
   "version": "3.7.3"
  }
 },
 "nbformat": 4,
 "nbformat_minor": 2
}
