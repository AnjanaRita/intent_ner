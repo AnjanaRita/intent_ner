{
 "cells": [
  {
   "cell_type": "markdown",
   "metadata": {},
   "source": [
    "### Baseline of the classification model using TF-IDF vectorization"
   ]
  },
  {
   "cell_type": "code",
   "execution_count": 1,
   "metadata": {},
   "outputs": [
    {
     "name": "stderr",
     "output_type": "stream",
     "text": [
      "[MLENS] backend: threading\n"
     ]
    }
   ],
   "source": [
    "import os\n",
    "import pickle\n",
    "from sklearn.svm import SVC\n",
    "from sklearn.metrics import *\n",
    "from mlens.ensemble import SuperLearner\n",
    "from sklearn.metrics import accuracy_score\n",
    "from utility.utils import json_2_dataframe\n",
    "from utility.utils import train_test_spliter\n",
    "from utility.feature_utility import featurized_data\n",
    "from classification.train import train_model, save_model"
   ]
  },
  {
   "cell_type": "code",
   "execution_count": 2,
   "metadata": {},
   "outputs": [],
   "source": [
    "from classification.eval import get_confusion_matrix\n",
    "from classification.eval import get_classfication_report"
   ]
  },
  {
   "cell_type": "markdown",
   "metadata": {},
   "source": [
    "## data reader and split into train and test data"
   ]
  },
  {
   "cell_type": "code",
   "execution_count": 3,
   "metadata": {},
   "outputs": [],
   "source": [
    "dataset = json_2_dataframe('../data/ChatbotCorpus.json')\n",
    "splited_data  = train_test_spliter(dataset)"
   ]
  },
  {
   "cell_type": "markdown",
   "metadata": {},
   "source": [
    "### preparing text data for classification"
   ]
  },
  {
   "cell_type": "code",
   "execution_count": 4,
   "metadata": {},
   "outputs": [],
   "source": [
    "X_train, X_test, y_train, y_test = featurized_data(splited_data, 'tf-idf')"
   ]
  },
  {
   "cell_type": "code",
   "execution_count": 5,
   "metadata": {},
   "outputs": [],
   "source": [
    "def tf_idf_reader():\n",
    "    with open('model/tfidf.pkl','rb') as f:\n",
    "        tfidf = pickle.load(f)\n",
    "    return tfidf\n",
    "    \n",
    "def predict_sample(model, sample, feature='tf-idf'):\n",
    "    if isinstance(sample,str):\n",
    "        sample = [sample]\n",
    "    if feature == 'tf-idf':\n",
    "        tfidf = tf_idf_reader()\n",
    "        sample_vector = tfidf.transform(sample)\n",
    "    else:\n",
    "        sample_vector = use_vectorizer(sample)\n",
    "    return model.predict(sample_vector)\n",
    "\n",
    "    \n",
    "def get_false_positive(model, data, true_lable, feature):\n",
    "    text = data\n",
    "    model_pred = predict_sample(model, data, feature)\n",
    "    print(\"false positive sample\")\n",
    "    for count , (actual,predict) in enumerate(zip(true_lable, model_pred)):\n",
    "        if actual == 'FindConnection' and predict == 'DepartureTime':\n",
    "            print(f\"sentence : {text[count]}\\nActual Label : {actual}\\tPredict Label : {predict}\\n\\n\")\n",
    "            \n",
    "def get_false_negative(model, data, true_lable, feature):\n",
    "    text = data\n",
    "    model_pred = predict_sample(model, data, feature)\n",
    "    print(\"false negative sample\")\n",
    "    for count , (actual,predict) in enumerate(zip(true_lable, model_pred)):\n",
    "        if actual == 'DepartureTime' and predict == 'FindConnection':\n",
    "            print(f\"sentence : {text[count]}\\nActual Label : {actual}\\tPredict Label : {predict}\\n\\n\")"
   ]
  },
  {
   "cell_type": "markdown",
   "metadata": {},
   "source": [
    "### LogisticRegression "
   ]
  },
  {
   "cell_type": "code",
   "execution_count": 10,
   "metadata": {},
   "outputs": [
    {
     "name": "stdout",
     "output_type": "stream",
     "text": [
      "Confusion Matrix :\n",
      "\n",
      "[[31  4]\n",
      " [ 0 71]]\n",
      "\n",
      " Classification Report :\n",
      "\n",
      "                precision    recall  f1-score   support\n",
      "\n",
      " DepartureTime       1.00      0.89      0.94        35\n",
      "FindConnection       0.95      1.00      0.97        71\n",
      "\n",
      "     micro avg       0.96      0.96      0.96       106\n",
      "     macro avg       0.97      0.94      0.96       106\n",
      "  weighted avg       0.96      0.96      0.96       106\n",
      "\n"
     ]
    },
    {
     "name": "stderr",
     "output_type": "stream",
     "text": [
      "/home/genesis/anaconda3/lib/python3.7/site-packages/sklearn/linear_model/logistic.py:433: FutureWarning: Default solver will be changed to 'lbfgs' in 0.22. Specify a solver to silence this warning.\n",
      "  FutureWarning)\n",
      "/home/genesis/anaconda3/lib/python3.7/site-packages/sklearn/model_selection/_search.py:841: DeprecationWarning: The default of the `iid` parameter will change from True to False in version 0.22 and will be removed in 0.24. This will change numeric results when test-set sizes are unequal.\n",
      "  DeprecationWarning)\n"
     ]
    }
   ],
   "source": [
    "clf_model = train_model('logistic',X_train, y_train)\n",
    "get_confusion_matrix(clf_model,X_test, y_test)\n",
    "get_classfication_report(clf_model, X_test, y_test)\n",
    "save_model(model = clf_model,filepath = 'model/classification/logistic_tfidf.sav')"
   ]
  },
  {
   "cell_type": "markdown",
   "metadata": {},
   "source": [
    "#### Observation:\n",
    "    - Precision for Departure time is 100% and recall for FindConnection is 100%.\n",
    "    - Model did properly generalized for Departure time"
   ]
  },
  {
   "cell_type": "markdown",
   "metadata": {},
   "source": [
    "### DecisionTree"
   ]
  },
  {
   "cell_type": "code",
   "execution_count": 19,
   "metadata": {},
   "outputs": [
    {
     "name": "stdout",
     "output_type": "stream",
     "text": [
      "Confusion Matrix :\n",
      "\n",
      "[[33  2]\n",
      " [ 3 68]]\n",
      "\n",
      " Classification Report :\n",
      "\n",
      "                precision    recall  f1-score   support\n",
      "\n",
      " DepartureTime       0.92      0.94      0.93        35\n",
      "FindConnection       0.97      0.96      0.96        71\n",
      "\n",
      "     micro avg       0.95      0.95      0.95       106\n",
      "     macro avg       0.94      0.95      0.95       106\n",
      "  weighted avg       0.95      0.95      0.95       106\n",
      "\n"
     ]
    },
    {
     "name": "stderr",
     "output_type": "stream",
     "text": [
      "/home/genesis/anaconda3/lib/python3.7/site-packages/sklearn/model_selection/_search.py:841: DeprecationWarning: The default of the `iid` parameter will change from True to False in version 0.22 and will be removed in 0.24. This will change numeric results when test-set sizes are unequal.\n",
      "  DeprecationWarning)\n"
     ]
    }
   ],
   "source": [
    "clf_model = train_model('decision_tree',X_train, y_train)\n",
    "get_confusion_matrix(clf_model,X_test, y_test)\n",
    "get_classfication_report(clf_model, X_test, y_test)\n",
    "save_model(model = clf_model,filepath = 'model/classification/decision_tree_tfidf.sav')"
   ]
  },
  {
   "cell_type": "markdown",
   "metadata": {},
   "source": [
    "#### Observation:\n",
    "    - Decision tree classification model is better as compare to logistic regression.\n",
    "    - Its actully reduces the false positive but the same time it increases the false negative"
   ]
  },
  {
   "cell_type": "markdown",
   "metadata": {},
   "source": [
    "\n",
    "\n",
    "### knn"
   ]
  },
  {
   "cell_type": "code",
   "execution_count": 12,
   "metadata": {},
   "outputs": [
    {
     "name": "stdout",
     "output_type": "stream",
     "text": [
      "Confusion Matrix :\n",
      "\n",
      "[[35  0]\n",
      " [ 3 68]]\n",
      "\n",
      " Classification Report :\n",
      "\n",
      "                precision    recall  f1-score   support\n",
      "\n",
      " DepartureTime       0.92      1.00      0.96        35\n",
      "FindConnection       1.00      0.96      0.98        71\n",
      "\n",
      "     micro avg       0.97      0.97      0.97       106\n",
      "     macro avg       0.96      0.98      0.97       106\n",
      "  weighted avg       0.97      0.97      0.97       106\n",
      "\n"
     ]
    },
    {
     "name": "stderr",
     "output_type": "stream",
     "text": [
      "/home/genesis/anaconda3/lib/python3.7/site-packages/sklearn/model_selection/_search.py:841: DeprecationWarning: The default of the `iid` parameter will change from True to False in version 0.22 and will be removed in 0.24. This will change numeric results when test-set sizes are unequal.\n",
      "  DeprecationWarning)\n"
     ]
    }
   ],
   "source": [
    "clf_model = train_model('knn',X_train, y_train)\n",
    "get_confusion_matrix(clf_model,X_test, y_test)\n",
    "get_classfication_report(clf_model, X_test, y_test)\n",
    "save_model(model = clf_model,filepath = 'model/classification/knn_tfidf.sav')"
   ]
  },
  {
   "cell_type": "markdown",
   "metadata": {},
   "source": [
    "#### Observation:\n",
    "    - Precision for FindConnection is 100% and recall for DepartureTime is 100%.\n",
    "    - Model did properly generalized for FindConnection"
   ]
  },
  {
   "cell_type": "markdown",
   "metadata": {},
   "source": [
    "### Random Forest"
   ]
  },
  {
   "cell_type": "code",
   "execution_count": 13,
   "metadata": {},
   "outputs": [
    {
     "name": "stdout",
     "output_type": "stream",
     "text": [
      "Confusion Matrix :\n",
      "\n",
      "[[31  4]\n",
      " [ 3 68]]\n",
      "\n",
      " Classification Report :\n",
      "\n",
      "                precision    recall  f1-score   support\n",
      "\n",
      " DepartureTime       0.91      0.89      0.90        35\n",
      "FindConnection       0.94      0.96      0.95        71\n",
      "\n",
      "     micro avg       0.93      0.93      0.93       106\n",
      "     macro avg       0.93      0.92      0.92       106\n",
      "  weighted avg       0.93      0.93      0.93       106\n",
      "\n"
     ]
    },
    {
     "name": "stderr",
     "output_type": "stream",
     "text": [
      "/home/genesis/anaconda3/lib/python3.7/site-packages/sklearn/model_selection/_search.py:841: DeprecationWarning: The default of the `iid` parameter will change from True to False in version 0.22 and will be removed in 0.24. This will change numeric results when test-set sizes are unequal.\n",
      "  DeprecationWarning)\n"
     ]
    }
   ],
   "source": [
    "clf_model = train_model('random_forest',X_train, y_train)\n",
    "get_confusion_matrix(clf_model,X_test, y_test)\n",
    "get_classfication_report(clf_model, X_test, y_test)\n",
    "save_model(model = clf_model,filepath = 'model/classification/random_forest_tfidf.sav')"
   ]
  },
  {
   "cell_type": "markdown",
   "metadata": {},
   "source": [
    "#### Observation\n",
    "    - It is not working well with small amount of data.\n",
    "    - Error rate is more in predicting departuretime category."
   ]
  },
  {
   "cell_type": "markdown",
   "metadata": {},
   "source": [
    "### SVC"
   ]
  },
  {
   "cell_type": "code",
   "execution_count": 14,
   "metadata": {},
   "outputs": [
    {
     "name": "stdout",
     "output_type": "stream",
     "text": [
      "Confusion Matrix :\n",
      "\n",
      "[[35  0]\n",
      " [ 1 70]]\n",
      "\n",
      " Classification Report :\n",
      "\n",
      "                precision    recall  f1-score   support\n",
      "\n",
      " DepartureTime       0.97      1.00      0.99        35\n",
      "FindConnection       1.00      0.99      0.99        71\n",
      "\n",
      "     micro avg       0.99      0.99      0.99       106\n",
      "     macro avg       0.99      0.99      0.99       106\n",
      "  weighted avg       0.99      0.99      0.99       106\n",
      "\n"
     ]
    },
    {
     "name": "stderr",
     "output_type": "stream",
     "text": [
      "/home/genesis/anaconda3/lib/python3.7/site-packages/sklearn/svm/base.py:196: FutureWarning: The default value of gamma will change from 'auto' to 'scale' in version 0.22 to account better for unscaled features. Set gamma explicitly to 'auto' or 'scale' to avoid this warning.\n",
      "  \"avoid this warning.\", FutureWarning)\n",
      "/home/genesis/anaconda3/lib/python3.7/site-packages/sklearn/model_selection/_search.py:841: DeprecationWarning: The default of the `iid` parameter will change from True to False in version 0.22 and will be removed in 0.24. This will change numeric results when test-set sizes are unequal.\n",
      "  DeprecationWarning)\n"
     ]
    }
   ],
   "source": [
    "clf_model = train_model('svm',X_train, y_train)\n",
    "get_confusion_matrix(clf_model,X_test, y_test)\n",
    "get_classfication_report(clf_model, X_test, y_test)\n",
    "save_model(model = clf_model,filepath = 'model/classification/svc_tfidf.sav')"
   ]
  },
  {
   "cell_type": "code",
   "execution_count": 16,
   "metadata": {},
   "outputs": [
    {
     "name": "stdout",
     "output_type": "stream",
     "text": [
      "false positive sample\n",
      "sentence : when is the next rocket from winterstraße 12 to kieferngarte\n",
      "Actual Label : FindConnection\tPredict Label : DepartureTime\n",
      "\n",
      "\n"
     ]
    }
   ],
   "source": [
    "get_false_positive(clf_model, splited_data.test.text.values, y_test,feature='tf-idf')"
   ]
  },
  {
   "cell_type": "code",
   "execution_count": 17,
   "metadata": {},
   "outputs": [
    {
     "data": {
      "text/plain": [
       "array(['DepartureTime'], dtype=object)"
      ]
     },
     "execution_count": 17,
     "metadata": {},
     "output_type": "execute_result"
    }
   ],
   "source": [
    "predict_sample(clf_model,['when is it going'])"
   ]
  },
  {
   "cell_type": "markdown",
   "metadata": {},
   "source": [
    "#### Observation\n",
    "    - The result seems pretty decent\n",
    "    - If vocabulary size is increased or dataset is increased, then training data become sparse,\n",
    "      where SVC take time to train."
   ]
  },
  {
   "cell_type": "code",
   "execution_count": null,
   "metadata": {},
   "outputs": [],
   "source": []
  },
  {
   "cell_type": "code",
   "execution_count": null,
   "metadata": {},
   "outputs": [],
   "source": []
  },
  {
   "cell_type": "code",
   "execution_count": null,
   "metadata": {},
   "outputs": [],
   "source": []
  },
  {
   "cell_type": "code",
   "execution_count": null,
   "metadata": {},
   "outputs": [],
   "source": []
  },
  {
   "cell_type": "code",
   "execution_count": null,
   "metadata": {},
   "outputs": [],
   "source": []
  },
  {
   "cell_type": "code",
   "execution_count": null,
   "metadata": {},
   "outputs": [],
   "source": []
  }
 ],
 "metadata": {
  "kernelspec": {
   "display_name": "Python 3",
   "language": "python",
   "name": "python3"
  },
  "language_info": {
   "codemirror_mode": {
    "name": "ipython",
    "version": 3
   },
   "file_extension": ".py",
   "mimetype": "text/x-python",
   "name": "python",
   "nbconvert_exporter": "python",
   "pygments_lexer": "ipython3",
   "version": "3.7.3"
  }
 },
 "nbformat": 4,
 "nbformat_minor": 2
}
