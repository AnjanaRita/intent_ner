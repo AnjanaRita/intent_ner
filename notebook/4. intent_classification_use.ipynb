{
 "cells": [
  {
   "cell_type": "markdown",
   "metadata": {},
   "source": [
    "### Baseline of the classification model using Universal Sentence Encoder(USE)"
   ]
  },
  {
   "cell_type": "code",
   "execution_count": 18,
   "metadata": {},
   "outputs": [],
   "source": [
    "import os\n",
    "import pickle\n",
    "from sklearn.svm import SVC\n",
    "from sklearn.metrics import *\n",
    "from mlens.ensemble import SuperLearner\n",
    "from sklearn.metrics import accuracy_score\n",
    "from utility.utils import json_2_dataframe\n",
    "from utility.utils import train_test_spliter\n",
    "from utility.feature_utility import featurized_data\n",
    "from utility.feature_utility import use_vectorizer\n",
    "from classification.train import train_model, save_model"
   ]
  },
  {
   "cell_type": "code",
   "execution_count": 2,
   "metadata": {},
   "outputs": [],
   "source": [
    "from warnings import simplefilter\n",
    "simplefilter(action='ignore', category=FutureWarning)"
   ]
  },
  {
   "cell_type": "code",
   "execution_count": 3,
   "metadata": {},
   "outputs": [],
   "source": [
    "from classification.eval import get_confusion_matrix\n",
    "from classification.eval import get_classfication_report"
   ]
  },
  {
   "cell_type": "markdown",
   "metadata": {},
   "source": [
    "## data reader and split into train and test data"
   ]
  },
  {
   "cell_type": "code",
   "execution_count": 4,
   "metadata": {},
   "outputs": [],
   "source": [
    "dataset = json_2_dataframe('../data/ChatbotCorpus.json')\n",
    "splited_data  = train_test_spliter(dataset)"
   ]
  },
  {
   "cell_type": "markdown",
   "metadata": {},
   "source": [
    "### preparing text data for classification"
   ]
  },
  {
   "cell_type": "code",
   "execution_count": 5,
   "metadata": {},
   "outputs": [
    {
     "name": "stderr",
     "output_type": "stream",
     "text": [
      "WARNING: Logging before flag parsing goes to stderr.\n",
      "W0830 10:47:33.727248 139880529274688 deprecation_wrapper.py:119] From /home/genesis/projects/misc/vp/verloop/notebook/utility/feature_utility.py:20: The name tf.Session is deprecated. Please use tf.compat.v1.Session instead.\n",
      "\n",
      "W0830 10:47:33.773461 139880529274688 deprecation_wrapper.py:119] From /home/genesis/projects/misc/vp/verloop/notebook/utility/feature_utility.py:21: The name tf.global_variables_initializer is deprecated. Please use tf.compat.v1.global_variables_initializer instead.\n",
      "\n",
      "W0830 10:47:33.777262 139880529274688 deprecation_wrapper.py:119] From /home/genesis/projects/misc/vp/verloop/notebook/utility/feature_utility.py:21: The name tf.tables_initializer is deprecated. Please use tf.compat.v1.tables_initializer instead.\n",
      "\n"
     ]
    }
   ],
   "source": [
    "X_train, X_test, y_train, y_test = featurized_data(splited_data, 'use')"
   ]
  },
  {
   "cell_type": "code",
   "execution_count": 8,
   "metadata": {},
   "outputs": [],
   "source": [
    "def predict_sample(model, sample, feature='use'):\n",
    "    if isinstance(sample,str):\n",
    "        sample = [sample]\n",
    "    sample_vector = use_vectorizer(sample)\n",
    "    return model.predict(sample_vector)\n",
    "    \n",
    "def get_false_positive(model, data, true_lable):\n",
    "    text = data\n",
    "    model_pred = predict_sample(model, data)\n",
    "    print(\"false positive sample\")\n",
    "    for count , (actual,predict) in enumerate(zip(true_lable, model_pred)):\n",
    "        if actual == 'FindConnection' and predict == 'DepartureTime':\n",
    "            print(f\"sentence : {text[count]}\\nActual Label : {actual}\\tPredict Label : {predict}\\n\\n\")\n",
    "            \n",
    "def get_false_negative(model, data, true_lable):\n",
    "    text = data\n",
    "    model_pred = predict_sample(model, data)\n",
    "    print(\"false negative sample\")\n",
    "    for count , (actual,predict) in enumerate(zip(true_lable, model_pred)):\n",
    "        if actual == 'DepartureTime' and predict == 'FindConnection':\n",
    "            print(f\"sentence : {text[count]}\\nActual Label : {actual}\\tPredict Label : {predict}\\n\\n\")\n",
    "            "
   ]
  },
  {
   "cell_type": "code",
   "execution_count": null,
   "metadata": {},
   "outputs": [],
   "source": []
  },
  {
   "cell_type": "markdown",
   "metadata": {},
   "source": [
    "### LogisticRegression "
   ]
  },
  {
   "cell_type": "code",
   "execution_count": 9,
   "metadata": {},
   "outputs": [
    {
     "name": "stdout",
     "output_type": "stream",
     "text": [
      "Confusion Matrix :\n",
      "\n",
      "[[31  4]\n",
      " [ 3 68]]\n",
      "\n",
      " Classification Report :\n",
      "\n",
      "                precision    recall  f1-score   support\n",
      "\n",
      " DepartureTime       0.91      0.89      0.90        35\n",
      "FindConnection       0.94      0.96      0.95        71\n",
      "\n",
      "     micro avg       0.93      0.93      0.93       106\n",
      "     macro avg       0.93      0.92      0.92       106\n",
      "  weighted avg       0.93      0.93      0.93       106\n",
      "\n"
     ]
    },
    {
     "name": "stderr",
     "output_type": "stream",
     "text": [
      "/home/genesis/anaconda3/lib/python3.7/site-packages/sklearn/model_selection/_search.py:841: DeprecationWarning: The default of the `iid` parameter will change from True to False in version 0.22 and will be removed in 0.24. This will change numeric results when test-set sizes are unequal.\n",
      "  DeprecationWarning)\n"
     ]
    }
   ],
   "source": [
    "clf_model = train_model('logistic',X_train, y_train)\n",
    "get_confusion_matrix(clf_model,X_test, y_test)\n",
    "get_classfication_report(clf_model, X_test, y_test)\n",
    "save_model(model = clf_model,filepath = 'model/classification/logistic_use.sav')"
   ]
  },
  {
   "cell_type": "markdown",
   "metadata": {},
   "source": [
    "#### Observation:\n",
    "    - Model did properly generalized.\n",
    "    - As compare to logistic regression using TF-IDF, use is giving better result"
   ]
  },
  {
   "cell_type": "markdown",
   "metadata": {},
   "source": [
    "### DecisionTree"
   ]
  },
  {
   "cell_type": "code",
   "execution_count": 11,
   "metadata": {},
   "outputs": [
    {
     "name": "stdout",
     "output_type": "stream",
     "text": [
      "Confusion Matrix :\n",
      "\n",
      "[[27  8]\n",
      " [ 5 66]]\n",
      "\n",
      " Classification Report :\n",
      "\n",
      "                precision    recall  f1-score   support\n",
      "\n",
      " DepartureTime       0.84      0.77      0.81        35\n",
      "FindConnection       0.89      0.93      0.91        71\n",
      "\n",
      "     micro avg       0.88      0.88      0.88       106\n",
      "     macro avg       0.87      0.85      0.86       106\n",
      "  weighted avg       0.88      0.88      0.88       106\n",
      "\n"
     ]
    },
    {
     "name": "stderr",
     "output_type": "stream",
     "text": [
      "/home/genesis/anaconda3/lib/python3.7/site-packages/sklearn/model_selection/_search.py:841: DeprecationWarning: The default of the `iid` parameter will change from True to False in version 0.22 and will be removed in 0.24. This will change numeric results when test-set sizes are unequal.\n",
      "  DeprecationWarning)\n"
     ]
    }
   ],
   "source": [
    "clf_model = train_model('decision_tree',X_train, y_train)\n",
    "get_confusion_matrix(clf_model,X_test, y_test)\n",
    "get_classfication_report(clf_model, X_test, y_test)\n",
    "save_model(model = clf_model,filepath = 'model/classification/decision_tree_use.sav')"
   ]
  },
  {
   "cell_type": "markdown",
   "metadata": {},
   "source": [
    "#### Observation:\n",
    "    - Decision tree classification model is not as good as Logestic regression.\n",
    "    - Its actully increased false postive and false negative"
   ]
  },
  {
   "cell_type": "markdown",
   "metadata": {},
   "source": [
    "\n",
    "\n",
    "### knn"
   ]
  },
  {
   "cell_type": "code",
   "execution_count": 12,
   "metadata": {},
   "outputs": [
    {
     "name": "stdout",
     "output_type": "stream",
     "text": [
      "Confusion Matrix :\n",
      "\n",
      "[[32  3]\n",
      " [ 3 68]]\n",
      "\n",
      " Classification Report :\n",
      "\n",
      "                precision    recall  f1-score   support\n",
      "\n",
      " DepartureTime       0.91      0.91      0.91        35\n",
      "FindConnection       0.96      0.96      0.96        71\n",
      "\n",
      "     micro avg       0.94      0.94      0.94       106\n",
      "     macro avg       0.94      0.94      0.94       106\n",
      "  weighted avg       0.94      0.94      0.94       106\n",
      "\n"
     ]
    }
   ],
   "source": [
    "clf_model = train_model('knn',X_train, y_train)\n",
    "get_confusion_matrix(clf_model,X_test, y_test)\n",
    "get_classfication_report(clf_model, X_test, y_test)\n",
    "save_model(model = clf_model,filepath = 'model/classification/knn_use.sav')"
   ]
  },
  {
   "cell_type": "markdown",
   "metadata": {},
   "source": [
    "#### Observation:\n",
    "    - Model is better as compare to logistic, knn and Decison tree."
   ]
  },
  {
   "cell_type": "markdown",
   "metadata": {},
   "source": [
    "### Random Forest"
   ]
  },
  {
   "cell_type": "code",
   "execution_count": 15,
   "metadata": {},
   "outputs": [
    {
     "name": "stdout",
     "output_type": "stream",
     "text": [
      "Confusion Matrix :\n",
      "\n",
      "[[32  3]\n",
      " [ 3 68]]\n",
      "\n",
      " Classification Report :\n",
      "\n",
      "                precision    recall  f1-score   support\n",
      "\n",
      " DepartureTime       0.91      0.91      0.91        35\n",
      "FindConnection       0.96      0.96      0.96        71\n",
      "\n",
      "     micro avg       0.94      0.94      0.94       106\n",
      "     macro avg       0.94      0.94      0.94       106\n",
      "  weighted avg       0.94      0.94      0.94       106\n",
      "\n"
     ]
    },
    {
     "name": "stderr",
     "output_type": "stream",
     "text": [
      "/home/genesis/anaconda3/lib/python3.7/site-packages/sklearn/model_selection/_search.py:841: DeprecationWarning: The default of the `iid` parameter will change from True to False in version 0.22 and will be removed in 0.24. This will change numeric results when test-set sizes are unequal.\n",
      "  DeprecationWarning)\n"
     ]
    }
   ],
   "source": [
    "clf_model = train_model('random_forest',X_train, y_train)\n",
    "get_confusion_matrix(clf_model,X_test, y_test)\n",
    "get_classfication_report(clf_model, X_test, y_test)\n",
    "save_model(model = clf_model,filepath = 'model/classification/random_forest_use.sav')"
   ]
  },
  {
   "cell_type": "markdown",
   "metadata": {},
   "source": [
    "#### Observation\n",
    "    - It is not working well with small amount of data.\n",
    "    - Error rate is more in predicting departuretime category."
   ]
  },
  {
   "cell_type": "markdown",
   "metadata": {},
   "source": [
    "### SVC"
   ]
  },
  {
   "cell_type": "code",
   "execution_count": 21,
   "metadata": {},
   "outputs": [
    {
     "name": "stdout",
     "output_type": "stream",
     "text": [
      "Confusion Matrix :\n",
      "\n",
      "[[31  4]\n",
      " [ 4 67]]\n",
      "\n",
      " Classification Report :\n",
      "\n",
      "                precision    recall  f1-score   support\n",
      "\n",
      " DepartureTime       0.89      0.89      0.89        35\n",
      "FindConnection       0.94      0.94      0.94        71\n",
      "\n",
      "     micro avg       0.92      0.92      0.92       106\n",
      "     macro avg       0.91      0.91      0.91       106\n",
      "  weighted avg       0.92      0.92      0.92       106\n",
      "\n"
     ]
    },
    {
     "name": "stderr",
     "output_type": "stream",
     "text": [
      "/home/genesis/anaconda3/lib/python3.7/site-packages/sklearn/model_selection/_search.py:841: DeprecationWarning: The default of the `iid` parameter will change from True to False in version 0.22 and will be removed in 0.24. This will change numeric results when test-set sizes are unequal.\n",
      "  DeprecationWarning)\n"
     ]
    }
   ],
   "source": [
    "clf_model = train_model('svm',X_train, y_train)\n",
    "get_confusion_matrix(clf_model,X_test, y_test)\n",
    "get_classfication_report(clf_model, X_test, y_test)\n",
    "save_model(model = clf_model,filepath = 'model/classification/svc_use.sav')"
   ]
  },
  {
   "cell_type": "code",
   "execution_count": 19,
   "metadata": {},
   "outputs": [
    {
     "name": "stdout",
     "output_type": "stream",
     "text": [
      "false positive sample\n",
      "sentence : when is the next train from winterstraße 12 to kieferngarten\n",
      "Actual Label : FindConnection\tPredict Label : DepartureTime\n",
      "\n",
      "\n",
      "sentence : when is the next rocket from winterstraße 12 to kieferngarte\n",
      "Actual Label : FindConnection\tPredict Label : DepartureTime\n",
      "\n",
      "\n",
      "sentence : when is the train from garching to marienplatz\n",
      "Actual Label : FindConnection\tPredict Label : DepartureTime\n",
      "\n",
      "\n",
      "sentence : take me to the airport\n",
      "Actual Label : FindConnection\tPredict Label : DepartureTime\n",
      "\n",
      "\n"
     ]
    }
   ],
   "source": [
    "get_false_positive(clf_model, splited_data.test.text.values, y_test)"
   ]
  },
  {
   "cell_type": "code",
   "execution_count": 20,
   "metadata": {},
   "outputs": [
    {
     "name": "stdout",
     "output_type": "stream",
     "text": [
      "false negative sample\n",
      "sentence : what is the next train from münchner freiheit\n",
      "Actual Label : DepartureTime\tPredict Label : FindConnection\n",
      "\n",
      "\n",
      "sentence : or depart from garching\n",
      "Actual Label : DepartureTime\tPredict Label : FindConnection\n",
      "\n",
      "\n",
      "sentence : depart in garching, i assume\n",
      "Actual Label : DepartureTime\tPredict Label : FindConnection\n",
      "\n",
      "\n",
      "sentence : next train from muenchen freicheit\n",
      "Actual Label : DepartureTime\tPredict Label : FindConnection\n",
      "\n",
      "\n"
     ]
    }
   ],
   "source": [
    "get_false_negative(clf_model, splited_data.test.text.values, y_test)"
   ]
  },
  {
   "cell_type": "code",
   "execution_count": 27,
   "metadata": {},
   "outputs": [
    {
     "data": {
      "text/plain": [
       "array(['DepartureTime', 'FindConnection'], dtype=object)"
      ]
     },
     "execution_count": 27,
     "metadata": {},
     "output_type": "execute_result"
    }
   ],
   "source": [
    "predict_sample(clf_model,['when is it going','is it possible by truck'])"
   ]
  },
  {
   "cell_type": "markdown",
   "metadata": {},
   "source": [
    "#### Observation\n",
    "    - The SVC using TF-IDF is much better than as current model.\n",
    "    - To imporve the current modle we need more data.\n",
    "#### Reason:\n",
    "##### Why TF-IDF works better as compared to USE\n",
    "    - one possilbe reason, samples in both categories looks pretty similary in terms of meaning\n",
    "\n",
    "#### Pros and cons with TF-IDF\n",
    "    - With small data it works pretty decent.\n",
    "    - When new data comes, where all the words not present in current TF-IDF vocab,\n",
    "      it will fail to detect proper category (TF-IDF didn't capature ).\n",
    "    - Data is very less, TF-IDF model will become extreme word sensitive.\n"
   ]
  },
  {
   "cell_type": "code",
   "execution_count": null,
   "metadata": {},
   "outputs": [],
   "source": []
  },
  {
   "cell_type": "code",
   "execution_count": null,
   "metadata": {},
   "outputs": [],
   "source": []
  },
  {
   "cell_type": "code",
   "execution_count": null,
   "metadata": {},
   "outputs": [],
   "source": []
  },
  {
   "cell_type": "code",
   "execution_count": null,
   "metadata": {},
   "outputs": [],
   "source": []
  },
  {
   "cell_type": "code",
   "execution_count": null,
   "metadata": {},
   "outputs": [],
   "source": []
  }
 ],
 "metadata": {
  "kernelspec": {
   "display_name": "Python 3",
   "language": "python",
   "name": "python3"
  },
  "language_info": {
   "codemirror_mode": {
    "name": "ipython",
    "version": 3
   },
   "file_extension": ".py",
   "mimetype": "text/x-python",
   "name": "python",
   "nbconvert_exporter": "python",
   "pygments_lexer": "ipython3",
   "version": "3.7.3"
  }
 },
 "nbformat": 4,
 "nbformat_minor": 2
}
